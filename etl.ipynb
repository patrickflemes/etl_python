{
  "nbformat": 4,
  "nbformat_minor": 0,
  "metadata": {
    "colab": {
      "provenance": [],
      "include_colab_link": true
    },
    "kernelspec": {
      "name": "python3",
      "display_name": "Python 3"
    },
    "language_info": {
      "name": "python"
    }
  },
  "cells": [
    {
      "cell_type": "markdown",
      "metadata": {
        "id": "view-in-github",
        "colab_type": "text"
      },
      "source": [
        "<a href=\"https://colab.research.google.com/github/patrickflemes/etl_python/blob/main/etl.ipynb\" target=\"_parent\"><img src=\"https://colab.research.google.com/assets/colab-badge.svg\" alt=\"Open In Colab\"/></a>"
      ]
    },
    {
      "cell_type": "markdown",
      "source": [
        "## **Engenheiro de Dados - Atividade Prática**"
      ],
      "metadata": {
        "id": "Os9bsqa2nmTX"
      }
    },
    {
      "cell_type": "markdown",
      "source": [
        "**Contexto:** Como engenheiro de dados o seu papel é consumir, tratar e disponibilizar dados, que posteriormente serão utilizados para tomadas de decisões. Portanto, seu trabalho é essencial e deve ser realizado com atenção, para que os dados fornecidos sejam confiáveis."
      ],
      "metadata": {
        "id": "PiXGDOzXqrUr"
      }
    },
    {
      "cell_type": "markdown",
      "source": [
        "**Etapas do ETL:**\n",
        "\n",
        "* **Extração (Extract):** Nesta fase, os dados são coletados de diferentes fontes, como bancos de dados, arquivos, APIs, etc. O objetivo é reunir as informações necessárias para a análise ou processamento subsequente.\n",
        "\n",
        "* **Transformação (Transform):** Os dados extraídos passam por transformações para garantir consistência, qualidade e relevância. Isso inclui limpeza de dados, conversões de formato, cálculos e qualquer modificação necessária para atender aos requisitos específicos.\n",
        "\n",
        "* **Carga (Load):** Os dados transformados são carregados em um destino de armazenamento, geralmente um banco de dados ou data warehouse. Este é o estágio onde os dados preparados são disponibilizados para consultas e análises.\n",
        "\n",
        "\n",
        "\n"
      ],
      "metadata": {
        "id": "vK0jdJlXr7rj"
      }
    },
    {
      "cell_type": "markdown",
      "source": [
        "#### O que você deve fazer:"
      ],
      "metadata": {
        "id": "E3_hlf2_u0s-"
      }
    },
    {
      "cell_type": "markdown",
      "source": [
        "1. Extração e Limpeza de Dados:\n",
        "   - Carregue dados do arquivo CSV (supermarket_sales.csv).\n",
        "   - Remova duplicatas e valores nulos.\n",
        "   - Salve os dados limpos em um novo dataframe (**vendas_principal**).\n",
        "\n",
        "2. Transformação de Dados:\n",
        "   - Calcule uma nova coluna com o valor total da venda.\n",
        "   - Crie 2 novas colunas: mês e ano.\n",
        "   - Agregue vendas por \"branch\" em um novo dataframe (total vendido por branch).\n",
        "   - Salve os dados transformados em um novo arquivo CSV (agregado_por_branch.csv).\n",
        "\n",
        "3. Processamento de Dados em Lote:\n",
        "   - Aplique um desconto de 10% no valor total para produtos vendidos em quantidades superiores a 5 unidades.\n",
        "   - Salve os dados processados em um novo arquivo CSV (vendas_com_desconto.csv).\n",
        "\n",
        "4. Análises básicas utilizando o **vendas_principal**:\n",
        "  - Responda as perguntas abaixo, utilize gráficos, frases ou a maneira que julgar ser adequada.\n",
        "    - Quais são os produtos mais vendidos em termos de quantidade e receita?\n",
        "    - Qual a cidade com maior ticket médio?\n",
        "    - Qual foi o mês com maior faturamento?\n",
        "    - Qual a hora do dia que possui mais vendas?\n",
        "\n",
        "5. Documentação:\n",
        "   - Inclua comentários explicativos em todo o código.\n",
        "\n",
        "Observação: Você pode complementar as etapas caso julgue necessário.\n",
        "\n",
        "\n",
        "\n",
        "\n",
        "\n",
        "\n"
      ],
      "metadata": {
        "id": "OitK30N9u5zT"
      }
    },
    {
      "cell_type": "markdown",
      "source": [
        "## **DESENVOLVIMENTO**"
      ],
      "metadata": {
        "id": "MCb4c7lFUnck"
      }
    },
    {
      "cell_type": "markdown",
      "source": [
        "Essa é a etapa inicial do processo, é importada a biblioteca Pandas para o processo de extração e tratamento dos dados.\n",
        "\n",
        "Após isso são removidas as duplicadatas, com o .drop.duplicates() e os valores nulos com o .dropna(), que dropa os valores NaN.\n",
        "\n",
        "Na última etapa, com os dados utilizados, converto as strings para número e ajusto as virgulas para \".\" , para trabalhar matematicamente com os valores."
      ],
      "metadata": {
        "id": "aDPulFOLTxFu"
      }
    },
    {
      "cell_type": "code",
      "source": [
        "import pandas as pd\n",
        "\n",
        "# EXTRAÇÃO E LIMPEZA\n",
        "\n",
        "vendas_original = pd.read_csv(\"https://raw.githubusercontent.com/patrickflemes/etl_python/main/supermarket_sales.csv\")\n",
        "\n",
        "vendas_principal = vendas_original.drop_duplicates()\n",
        "vendas_principal.dropna(inplace=True)\n",
        "vendas_principal.to_csv(\"/home/vendas_principal.csv\", index=False)\n",
        "\n",
        "vendas_principal[\"Unit price\"] = pd.to_numeric(vendas_principal[\"Unit price\"].str.replace(\",\", \".\"), errors='coerce')\n",
        "vendas_principal[\"Quantity\"] = pd.to_numeric(vendas_principal[\"Quantity\"].str.replace(\",\", \".\"), errors='coerce')\n",
        "vendas_principal[\"Tax 5%\"] = pd.to_numeric(vendas_principal[\"Tax 5%\"].str.replace(\",\", \".\"), errors='coerce')"
      ],
      "metadata": {
        "id": "0ekA16rtJqht"
      },
      "execution_count": null,
      "outputs": []
    },
    {
      "cell_type": "markdown",
      "source": [
        "Na parte de transformação de dados inicio criando a coluna de valor total multiplicando o valor unitário pela quantidade de pordutos de cada linha, somando também a taxa de 5% das vendas, pois entendi que é acrescido no valor para o pagamento como no formato americano. Para facilitar a visualização o valor é aredondado para dois pontos após a virgula.\n",
        "\n",
        "Criadas as colunas de mês e ano baseando-se na coluna \"Date\".\n",
        "\n",
        "Para calular o valor por filial é feito um agrupamento da coluna \"valor_total\" baseado-se na coluna \"Branch\", referente as filiais. Ao final, salvo em um novo arquivo local as informações.  "
      ],
      "metadata": {
        "id": "8khNJ1pfUtW7"
      }
    },
    {
      "cell_type": "code",
      "source": [
        "# TRANSFORMAÇÃO DE DADOS\n",
        "\n",
        "\n",
        "vendas_principal[\"valor_total\"] = vendas_principal[\"Unit price\"] * vendas_principal[\"Quantity\"] + vendas_principal[\"Tax 5%\"]\n",
        "vendas_principal[\"valor_total\"] = vendas_principal[\"valor_total\"].round(2)\n",
        "\n",
        "vendas_principal[\"mes\"] = pd.to_datetime(vendas_principal[\"Date\"]).dt.month\n",
        "vendas_principal[\"ano\"] = pd.to_datetime(vendas_principal[\"Date\"]).dt.year\n",
        "total_por_filial = vendas_principal.groupby(\"Branch\")[\"valor_total\"].sum()\n",
        "total_por_filial.to_csv(\"/home/agregado_por_branch.csv\")"
      ],
      "metadata": {
        "id": "X37tvBZhJrjP"
      },
      "execution_count": null,
      "outputs": []
    },
    {
      "cell_type": "markdown",
      "source": [
        "Para calcular os valores com desconto, crio um novo df com uma cópia do arquivo \"vendas_principal\".\n",
        "\n",
        "É feita a validação da coluna de quantidades, caso ela seja maior que 5 é calculado um desconto de 10% no valor.\n",
        "\n",
        "Ao final, salvoem uma nova CSV."
      ],
      "metadata": {
        "id": "N-uwjn5qVk0T"
      }
    },
    {
      "cell_type": "code",
      "source": [
        "# PROCESSAMENTO DE DADOS EM LOTE\n",
        "\n",
        "vendas_com_desconto = vendas_principal.copy()\n",
        "vendas_com_desconto[\"valor_total\"] = vendas_com_desconto[\"valor_total\"] * (1 - 0.1 * (vendas_com_desconto[\"Quantity\"] > 5))\n",
        "vendas_com_desconto.to_csv(\"/home/vendas_com_desconto.csv\", index=False)"
      ],
      "metadata": {
        "id": "kKBjcOJsJuY1"
      },
      "execution_count": null,
      "outputs": []
    },
    {
      "cell_type": "markdown",
      "source": [
        "## **ANÁLISES EM LOTE**\n",
        "\n",
        "A análise como solcicitado, baseia-se na DF vendas_principal."
      ],
      "metadata": {
        "id": "GLRPHoq2KK1b"
      }
    },
    {
      "cell_type": "markdown",
      "source": [
        "Feito um agrupamento por linha de produto baseando-se na soma da quantidade de produtos vendidos. É feito um sort para organizar por valor."
      ],
      "metadata": {
        "id": "UjdibiWmWYtI"
      }
    },
    {
      "cell_type": "code",
      "source": [
        "## PRODUTO POR QUANTIDADE\n",
        "\n",
        "produtos_mais_vendidos_quantidade = vendas_principal.groupby(\"Product line\")[\"Quantity\"].sum().sort_values(ascending=False)\n",
        "print(f\"Produtos por quantidade: \\n{produtos_mais_vendidos_quantidade}\")"
      ],
      "metadata": {
        "colab": {
          "base_uri": "https://localhost:8080/"
        },
        "id": "tczRMfxNJxNK",
        "outputId": "db49b11e-3f84-4ae6-b6bf-4633f588e70c"
      },
      "execution_count": null,
      "outputs": [
        {
          "output_type": "stream",
          "name": "stdout",
          "text": [
            "Produtos por quantidade: \n",
            "Product line\n",
            "Electronic accessories    941.0\n",
            "Food and beverages        940.0\n",
            "Home and lifestyle        911.0\n",
            "Sports and travel         906.0\n",
            "Fashion accessories       896.0\n",
            "Health and beauty         838.0\n",
            "Name: Quantity, dtype: float64\n",
            "\n",
            "\n"
          ]
        }
      ]
    },
    {
      "cell_type": "markdown",
      "source": [
        "Feito um novo agrupamento utilizando a função lambda para definir a operação que será aplicada a cada subconjunto de dados, calculando a receita total para cada linha de produto multiplicando a quantidade vendida pelo preço unitário e somando os resultados.\n",
        "\n",
        "Ao final é feito um sort para ordenar o resultado.\n"
      ],
      "metadata": {
        "id": "qrB66Y6IWrW1"
      }
    },
    {
      "cell_type": "code",
      "source": [
        "## PRODUTO POR RECEITA\n",
        "\n",
        "produtos_mais_vendidos_receita = vendas_principal.groupby(\"Product line\").apply(lambda x: (x[\"Quantity\"] * x[\"Unit price\"]).sum()).sort_values(ascending=False)\n",
        "print(f\"Produtos mais vendidos por receita: \\n{produtos_mais_vendidos_receita}\")"
      ],
      "metadata": {
        "colab": {
          "base_uri": "https://localhost:8080/"
        },
        "id": "AQG5G83vJz-X",
        "outputId": "11f5914b-0ab9-4597-bf7b-4ea289db73dc"
      },
      "execution_count": null,
      "outputs": [
        {
          "output_type": "stream",
          "name": "stdout",
          "text": [
            "Produtos mais vendidos por receita: \n",
            "Product line\n",
            "Food and beverages        52887.48\n",
            "Sports and travel         52014.09\n",
            "Home and lifestyle        51297.06\n",
            "Fashion accessories       51134.24\n",
            "Electronic accessories    49925.10\n",
            "Health and beauty         46322.58\n",
            "dtype: float64\n",
            "\n",
            "\n"
          ]
        }
      ]
    },
    {
      "cell_type": "markdown",
      "source": [
        "Feito um agrupamento por cidade. Para calcular o ticket médio por cidade é feita uma soma da coluna de valor total e dividido pela soma de quantidade, ainda sobre cada cidade."
      ],
      "metadata": {
        "id": "pCKsyCCpXhS0"
      }
    },
    {
      "cell_type": "code",
      "source": [
        "## TICKET MÉDIO POR CIDADE\n",
        "\n",
        "vendas_por_cidade = vendas_principal.groupby(\"City\")\n",
        "ticket_medio_por_cidade = (vendas_por_cidade[\"valor_total\"].sum() / vendas_por_cidade[\"Quantity\"].sum())\n",
        "print(f\"Ticket médio por cidade: \\n{ticket_medio_por_cidade}\")"
      ],
      "metadata": {
        "colab": {
          "base_uri": "https://localhost:8080/"
        },
        "id": "2reOSXBdJ2-8",
        "outputId": "c275932f-1fac-41a8-fdda-1ef6b58fd726"
      },
      "execution_count": null,
      "outputs": [
        {
          "output_type": "stream",
          "name": "stdout",
          "text": [
            "Ticket médio por cidade: \n",
            "City\n",
            "Mandalay     57.956763\n",
            "Naypyitaw    60.878973\n",
            "Yangon       57.278207\n",
            "dtype: float64\n",
            "\n",
            "\n"
          ]
        }
      ]
    },
    {
      "cell_type": "markdown",
      "source": [
        "Dentre as cidades, encontrado o maior ticket médio."
      ],
      "metadata": {
        "id": "dS7wz3LtX1Tb"
      }
    },
    {
      "cell_type": "code",
      "source": [
        "## CIDADE COM O MAIOR TICKET MÉDIO\n",
        "\n",
        "cidade_maior_ticket_medio = ticket_medio_por_cidade.sort_values(ascending=False).index[0]\n",
        "print(f\"Cidade com o maior ticket médio: \\n{cidade_maior_ticket_medio}\")"
      ],
      "metadata": {
        "colab": {
          "base_uri": "https://localhost:8080/"
        },
        "id": "1UBCi9kEKfnF",
        "outputId": "bf3d4de2-1d63-4314-cfa8-4c7e96b434cb"
      },
      "execution_count": null,
      "outputs": [
        {
          "output_type": "stream",
          "name": "stdout",
          "text": [
            "Cidade com o maior ticket médio: \n",
            "Naypyitaw\n",
            "\n",
            "\n"
          ]
        }
      ]
    },
    {
      "cell_type": "markdown",
      "source": [
        "Feito um agrupamento por mês considerando a soma do valor total. Após isso, feito um sort para ordenar os dados."
      ],
      "metadata": {
        "id": "tWXpNvoDX7yq"
      }
    },
    {
      "cell_type": "code",
      "source": [
        "## MÊS COM MAIOR FATURAMENTO\n",
        "\n",
        "faturamento_por_mes = vendas_principal.groupby(\"mes\")[\"valor_total\"].sum()\n",
        "mes_maior_faturamento = faturamento_por_mes.sort_values(ascending=False).index[0]\n",
        "print(f\"Mês com o maior faturamento: \\n{mes_maior_faturamento}\")"
      ],
      "metadata": {
        "colab": {
          "base_uri": "https://localhost:8080/"
        },
        "id": "Tcqw9E-7KCzQ",
        "outputId": "9aa7c0d9-9c96-4a71-8d6b-93cd0a8fcf04"
      },
      "execution_count": null,
      "outputs": [
        {
          "output_type": "stream",
          "name": "stdout",
          "text": [
            "Mês com o maior faturamento: \n",
            "1\n",
            "\n",
            "\n"
          ]
        }
      ]
    },
    {
      "cell_type": "markdown",
      "source": [
        "Primeiramente realizada a extração do horário, utilizando o .str após os \":\" e transformando em int.\n",
        "\n",
        "Finalizado é agrupado em hora, somando a quantidade de horas iguais para fim de agrupar todos. Após isso, feito o sort e pega a primeira posição para retornar o valor mais alto."
      ],
      "metadata": {
        "id": "rDWKt-VGYHVO"
      }
    },
    {
      "cell_type": "code",
      "source": [
        "## HORA QUE POSSUI MAIS VENDAS\n",
        "\n",
        "\n",
        "vendas_principal[\"Hour\"] = vendas_principal[\"Time\"].str[:2].astype(int)\n",
        "vendas_por_hora = vendas_principal.groupby(\"Hour\")[\"Quantity\"].sum()\n",
        "hora_mais_vendas = vendas_por_hora.sort_values(ascending=False).index[0]\n",
        "print(f\"Hora mais vendas: \\n{hora_mais_vendas}\")"
      ],
      "metadata": {
        "colab": {
          "base_uri": "https://localhost:8080/"
        },
        "id": "OzDvuZbdKF-F",
        "outputId": "1eba144c-4b57-4757-f62e-31cb31b47bce"
      },
      "execution_count": null,
      "outputs": [
        {
          "output_type": "stream",
          "name": "stdout",
          "text": [
            "Hora mais vendas: \n",
            "19\n",
            "\n",
            "\n"
          ]
        }
      ]
    }
  ]
}